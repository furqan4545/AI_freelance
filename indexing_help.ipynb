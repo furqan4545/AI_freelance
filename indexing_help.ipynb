{
 "cells": [
  {
   "cell_type": "code",
   "execution_count": 49,
   "metadata": {},
   "outputs": [],
   "source": [
    "# set matplotlib backend to inline\n",
    "%matplotlib inline \n",
    "\n",
    "# import modules\n",
    "from sklearn import datasets # import datasets\n",
    "import numpy as np # import numpy\n",
    "import matplotlib.pyplot as plt # import plots\n",
    "import pandas as pd\n"
   ]
  },
  {
   "cell_type": "markdown",
   "metadata": {},
   "source": [
    "### Preparing some (random) data\n",
    " This code generates some random numbers to use as a fake dataset (with 3 features)."
   ]
  },
  {
   "cell_type": "code",
   "execution_count": 50,
   "metadata": {},
   "outputs": [
    {
     "name": "stdout",
     "output_type": "stream",
     "text": [
      "(40, 3)\n"
     ]
    },
    {
     "data": {
      "text/plain": [
       "array([[0.23702917, 0.00764837, 0.01983031],\n",
       "       [0.31309262, 0.09945466, 0.19517429],\n",
       "       [0.20729802, 0.16493119, 0.71187896],\n",
       "       [0.03206667, 0.19736962, 0.96455696],\n",
       "       [0.57389458, 0.69922766, 0.97464142]])"
      ]
     },
     "execution_count": 50,
     "metadata": {},
     "output_type": "execute_result"
    }
   ],
   "source": [
    "# set the seed for the 'random' number generator\n",
    "mySeed=1234567\n",
    "\n",
    "# Set a seed to get pseudo-random number generation (i.e. force the same numbers to be generated every time)\n",
    "np.random.seed(mySeed)\n",
    "\n",
    "# create some fake data using random numbers \n",
    "D = np.random.random(size=(40,3))\n",
    "print(D.shape)\n",
    "D[:5,:] # Show the first 5 samples\n"
   ]
  },
  {
   "cell_type": "markdown",
   "metadata": {},
   "source": [
    "### Random indices\n",
    "\n",
    " In this section of code, we create an array of indices for each data sample, randomly shuffle them, and split into several distinct subsets (folds).\n",
    " "
   ]
  },
  {
   "cell_type": "code",
   "execution_count": 59,
   "metadata": {},
   "outputs": [
    {
     "name": "stdout",
     "output_type": "stream",
     "text": [
      "indices: [ 0  1  2  3  4  5  6  7  8  9 10 11 12 13 14 15 16 17 18 19 20 21 22 23\n",
      " 24 25 26 27 28 29 30 31 32 33 34 35 36 37 38 39]\n",
      "\n",
      "random indices: [36 15  9 13  3  5  2 31 24 12 30 21 27 38 33 26 37 23 35  0 32  1  6 29\n",
      " 19 18 25 14 22  4 39 16 10 34 20  8 11 28  7 17]\n",
      "\n",
      "split indices: [array([36, 15,  9, 13,  3,  5,  2, 31, 24, 12]), array([30, 21, 27, 38, 33, 26, 37, 23, 35,  0]), array([32,  1,  6, 29, 19, 18, 25, 14, 22,  4]), array([39, 16, 10, 34, 20,  8, 11, 28,  7, 17])]\n",
      "\n",
      "fold 2: [30 21 27 38 33 26 37 23 35  0]\n",
      "\n"
     ]
    }
   ],
   "source": [
    "\n",
    "# Create an array of indices for the data\n",
    "D_indices = np.arange(0,len(D),1)\n",
    "print('indices: %s\\n' % D_indices) \n",
    "\n",
    "# randomly shuffle the indices\n",
    "random_indices = np.random.permutation(D_indices)\n",
    "print('random indices: {}\\n'.format( random_indices) ) \n",
    "\n",
    "# split the indices into 4 different subsets, or folds\n",
    "split_indices = np.array_split(random_indices, 4)\n",
    "print('split indices: {}\\n'.format( split_indices) ) \n",
    "\n",
    "# we can access a single fold of these indices simply by calling, e.g.:\n",
    "print('fold 2: {}\\n' .format(split_indices[1]))\n"
   ]
  },
  {
   "cell_type": "markdown",
   "metadata": {},
   "source": [
    "### Using indices to work with the original data\n",
    " It is often easier to work on subsets of indices (because they are typically only one dimension). These can then be used to select 'windows' of the original data. \n"
   ]
  },
  {
   "cell_type": "code",
   "execution_count": 61,
   "metadata": {},
   "outputs": [
    {
     "data": {
      "text/plain": [
       "array([[0.62156788, 0.10204083, 0.34336421],\n",
       "       [0.26437972, 0.16516002, 0.23780665],\n",
       "       [0.22100605, 0.75291129, 0.34302302],\n",
       "       [0.36309048, 0.8702888 , 0.38478627],\n",
       "       [0.03206667, 0.19736962, 0.96455696]])"
      ]
     },
     "execution_count": 61,
     "metadata": {},
     "output_type": "execute_result"
    }
   ],
   "source": [
    "# e.g. if we want to work with a random fold of the original data,\n",
    "# we can just use the randomly selected fold of indices to access this, e.g. for fold 1:\n",
    "\n",
    "iFold = 0\n",
    "\n",
    "Data_fold_2 = D[split_indices[iFold],:]\n",
    "Data_fold_2[:5,:] # Show the first 5 samples of this fold\n"
   ]
  },
  {
   "cell_type": "markdown",
   "metadata": {},
   "source": [
    "### Combining folds of data\n",
    "\n",
    "You might have several folds of data that you want to combine into a single dataset. One way to do this is\n",
    "\n"
   ]
  },
  {
   "cell_type": "code",
   "execution_count": 1,
   "metadata": {},
   "outputs": [
    {
     "ename": "NameError",
     "evalue": "name 'split_indices' is not defined",
     "output_type": "error",
     "traceback": [
      "\u001b[1;31m---------------------------------------------------------------------------\u001b[0m",
      "\u001b[1;31mNameError\u001b[0m                                 Traceback (most recent call last)",
      "\u001b[1;32m<ipython-input-1-2ad936b40571>\u001b[0m in \u001b[0;36m<module>\u001b[1;34m\u001b[0m\n\u001b[0;32m      3\u001b[0m \u001b[1;31m# say we want to select folds 1 and 3\u001b[0m\u001b[1;33m\u001b[0m\u001b[1;33m\u001b[0m\u001b[1;33m\u001b[0m\u001b[0m\n\u001b[0;32m      4\u001b[0m \u001b[1;32mfor\u001b[0m \u001b[0midx\u001b[0m \u001b[1;32min\u001b[0m \u001b[1;33m[\u001b[0m\u001b[1;36m1\u001b[0m\u001b[1;33m,\u001b[0m\u001b[1;36m3\u001b[0m\u001b[1;33m]\u001b[0m\u001b[1;33m:\u001b[0m\u001b[1;33m\u001b[0m\u001b[1;33m\u001b[0m\u001b[0m\n\u001b[1;32m----> 5\u001b[1;33m     \u001b[0mselected\u001b[0m\u001b[1;33m.\u001b[0m\u001b[0mappend\u001b[0m\u001b[1;33m(\u001b[0m\u001b[0msplit_indices\u001b[0m\u001b[1;33m[\u001b[0m\u001b[0midx\u001b[0m\u001b[1;33m]\u001b[0m\u001b[1;33m[\u001b[0m\u001b[1;33m:\u001b[0m\u001b[1;33m]\u001b[0m\u001b[1;33m)\u001b[0m\u001b[1;33m\u001b[0m\u001b[1;33m\u001b[0m\u001b[0m\n\u001b[0m\u001b[0;32m      6\u001b[0m \u001b[1;33m\u001b[0m\u001b[0m\n\u001b[0;32m      7\u001b[0m \u001b[0mprint\u001b[0m\u001b[1;33m(\u001b[0m\u001b[1;34m'selected folds (an list of arrays): {}\\n'\u001b[0m\u001b[1;33m.\u001b[0m\u001b[0mformat\u001b[0m\u001b[1;33m(\u001b[0m\u001b[0mselected\u001b[0m\u001b[1;33m)\u001b[0m\u001b[1;33m)\u001b[0m\u001b[1;33m\u001b[0m\u001b[1;33m\u001b[0m\u001b[0m\n",
      "\u001b[1;31mNameError\u001b[0m: name 'split_indices' is not defined"
     ]
    }
   ],
   "source": [
    "selected = []\n",
    "\n",
    "# say we want to select folds 1 and 3\n",
    "for idx in [1,3]:\n",
    "    selected.append(split_indices[idx][:])\n",
    "    \n",
    "print('selected folds (an list of arrays): {}\\n'.format(selected)) \n",
    "\n",
    "# We need to now flatten the list of arrays into a single array using np.concatenate:\n",
    "combined_indices = np.concatenate(combined_folds)\n",
    "print('combined array of indices: {}\\n'.format(combined_indices)) \n",
    "    \n",
    "# This array can now be used as an index to select the relevant data, D\n"
   ]
  },
  {
   "cell_type": "markdown",
   "metadata": {},
   "source": [
    "## Docstrings and comments\n",
    "\n",
    "Whenever you are writing code, it is good practice to document what you are doing in as clear and readable way as possible. Inline comments e.g. ```# This code splits the data into a training and a test set``` should help clarify what the code itself is doing, particularly if the code might be difficult to understand. Comments are also important to document what you intend the code to do - even if the code doesn't actually work as you'd hoped (this also helps with coursework, because we can award marks for the idea, irrespective of whether the code actually implements that idea). For some hints on good commenting style, have a look here: https://stackabuse.com/commenting-python-code/.\n",
    "\n",
    "Another important source of documentation is to docstring your functions. Docstrings allow us to quickly understand both what a function does, and how it might be used. They typically include information on input arguments and what the function returns. An example is shown below. For reference on how to do docstrings, have a look here: https://numpydoc.readthedocs.io/en/latest/format.html. (Typically, you can see a function's docstring in Jupyter by selecting an instantiated function name and pressing SHIFT+TAB twice - try this on your own functions).\n",
    "\n",
    "Finally, in Jupyter Notebooks like this, you can document your code using Jupyter Markup. You might want to use Markup to introduce certain sections of code in more depth than might be covered within the docstring. Or just use it to break the code into more readable sections. In the coursework, we ask that you use the Markup to give your written answers to the questions. \n",
    "\n"
   ]
  },
  {
   "cell_type": "code",
   "execution_count": 111,
   "metadata": {},
   "outputs": [
    {
     "name": "stdout",
     "output_type": "stream",
     "text": [
      " \n",
      "    Summary line (e.g. this function doubles the input passed to it) \n",
      "  \n",
      "    Extended description of function. \n",
      "  \n",
      "    Parameters: \n",
      "    my_input (int): Description of my_input \n",
      "  \n",
      "    Returns: \n",
      "    int: Description of return value \n",
      "  \n",
      "    \n"
     ]
    },
    {
     "data": {
      "text/plain": [
       "4"
      ]
     },
     "execution_count": 111,
     "metadata": {},
     "output_type": "execute_result"
    }
   ],
   "source": [
    "\n",
    "def myExampleFunction(my_input):\n",
    "    \"\"\" \n",
    "    Summary line (e.g. this function doubles the input passed to it) \n",
    "  \n",
    "    Extended description of function. \n",
    "  \n",
    "    Parameters: \n",
    "    my_input (int): Description of my_input \n",
    "  \n",
    "    Returns: \n",
    "    int: Description of return value \n",
    "  \n",
    "    \"\"\"\n",
    "    \n",
    "    # Comment on what the code is doing \n",
    "    # ...\n",
    "    double_input = my_input * 2\n",
    "        \n",
    "    return double_input\n",
    "\n",
    " \n",
    "# print out the docstring for the function \n",
    "print( myExampleFunction.__doc__ )\n",
    "    \n",
    "# you can access the docstring information while coding by typing the function name:\n",
    "myExampleFunction(2) # and pressing SHIFT+TAB twice over it"
   ]
  }
 ],
 "metadata": {
  "kernelspec": {
   "display_name": "Python 3",
   "language": "python",
   "name": "python3"
  },
  "language_info": {
   "codemirror_mode": {
    "name": "ipython",
    "version": 3
   },
   "file_extension": ".py",
   "mimetype": "text/x-python",
   "name": "python",
   "nbconvert_exporter": "python",
   "pygments_lexer": "ipython3",
   "version": "3.8.2"
  }
 },
 "nbformat": 4,
 "nbformat_minor": 4
}
